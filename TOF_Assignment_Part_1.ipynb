{
 "cells": [
  {
   "cell_type": "markdown",
   "metadata": {},
   "source": [
    "# For the Part 1 - Coding of the assignment, below are the questions along with their answers.\n"
   ]
  },
  {
   "cell_type": "code",
   "execution_count": 1,
   "metadata": {},
   "outputs": [],
   "source": [
    "import pandas as pd\n",
    "\n",
    "df = pd.read_csv(\"AB_NYC_2019.csv\")"
   ]
  },
  {
   "cell_type": "markdown",
   "metadata": {},
   "source": [
    "1 How many neighborhoods have more than 1000 listings on Airbnb? How many neighborhoods have more than 1000 hosts on Airbnb? "
   ]
  },
  {
   "cell_type": "code",
   "execution_count": 2,
   "metadata": {},
   "outputs": [
    {
     "name": "stdout",
     "output_type": "stream",
     "text": [
      "\n",
      "13 neighborhoods have more than 1000 listings on Airbnb\n",
      "\n",
      "\n",
      "13 neighborhoods have more than 1000 hosts on Airbnb\n"
     ]
    }
   ],
   "source": [
    "df1=df.groupby('neighbourhood').count()\n",
    "\n",
    "\n",
    "df2=df1[df1['id']>1000]\n",
    "print(\"\\n{} neighborhoods have more than 1000 listings on Airbnb\\n\".format(df2['id'].count()))\n",
    "\n",
    "\n",
    "df3=df1[df1['host_name']>1000]\n",
    "print(\"\\n{} neighborhoods have more than 1000 hosts on Airbnb\".format(df3['host_name'].count()))"
   ]
  },
  {
   "cell_type": "markdown",
   "metadata": {},
   "source": [
    "2 Find the average price of each neighborhood listing with both listing id and host_id greater than 1500? "
   ]
  },
  {
   "cell_type": "code",
   "execution_count": 3,
   "metadata": {},
   "outputs": [
    {
     "name": "stdout",
     "output_type": "stream",
     "text": [
      "Average price of each neighbourhood listing with both listing id and host_id greater than 1500 is as follows \n"
     ]
    },
    {
     "data": {
      "text/plain": [
       "neighbourhood\n",
       "Allerton                        1839.5\n",
       "Arden Heights                    134.5\n",
       "Arrochar                        1207.5\n",
       "Arverne                         6613.5\n",
       "Astoria                        52734.5\n",
       "Bath Beach                       695.0\n",
       "Battery Park City              12864.5\n",
       "Bay Ridge                      10182.5\n",
       "Bay Terrace                      426.0\n",
       "Bay Terrace, Staten Island       102.5\n",
       "Baychester                       264.0\n",
       "Bayside                         3080.0\n",
       "Bayswater                        743.5\n",
       "Bedford-Stuyvesant            199958.5\n",
       "Belle Harbor                     686.0\n",
       "Bellerose                        695.5\n",
       "Belmont                          925.5\n",
       "Bensonhurst                     2842.0\n",
       "Bergen Beach                     533.5\n",
       "Boerum Hill                    15588.0\n",
       "Borough Park                    4288.5\n",
       "Breezy Point                     320.0\n",
       "Briarwood                       2964.5\n",
       "Brighton Beach                  4947.5\n",
       "Bronxdale                        542.5\n",
       "Brooklyn Heights               16098.0\n",
       "Brownsville                     2332.0\n",
       "Bull's Head                      142.0\n",
       "Bushwick                      104516.5\n",
       "Cambria Heights                 1062.5\n",
       "                                ...   \n",
       "Theater District               35714.0\n",
       "Throgs Neck                     1092.5\n",
       "Todt Hill                        338.0\n",
       "Tompkinsville                   1600.0\n",
       "Tottenville                      507.0\n",
       "Tremont                          283.5\n",
       "Tribeca                        43421.5\n",
       "Two Bridges                     4574.5\n",
       "Unionport                        480.0\n",
       "University Heights               730.5\n",
       "Upper East Side               169864.5\n",
       "Upper West Side               207860.0\n",
       "Van Nest                         626.0\n",
       "Vinegar Hill                    3182.0\n",
       "Wakefield                       2139.5\n",
       "Washington Heights             40280.0\n",
       "West Brighton                    725.0\n",
       "West Farms                       122.0\n",
       "West Village                  102790.0\n",
       "Westchester Square               611.0\n",
       "Westerleigh                       71.5\n",
       "Whitestone                       591.5\n",
       "Williamsbridge                  1935.0\n",
       "Williamsburg                  281853.5\n",
       "Willowbrook                      124.5\n",
       "Windsor Terrace                10911.0\n",
       "Woodhaven                       2955.5\n",
       "Woodlawn                         330.5\n",
       "Woodrow                          350.0\n",
       "Woodside                        9999.0\n",
       "Name: price, Length: 221, dtype: float64"
      ]
     },
     "execution_count": 3,
     "metadata": {},
     "output_type": "execute_result"
    }
   ],
   "source": [
    "df1=df[df['id']>1500]\n",
    "\n",
    "df2=df1[df1['host_id']>1500]\n",
    "\n",
    "df3=df2.groupby('neighbourhood').sum()/2\n",
    "\n",
    "print(\"Average price of each neighbourhood listing with both listing id and host_id greater than 1500 is as follows \")\n",
    "\n",
    "df3['price']"
   ]
  },
  {
   "cell_type": "markdown",
   "metadata": {},
   "source": [
    "3 Find the host name who has the greatest number of listings in New York? For that host, how many listings of “private room” type does this host have?"
   ]
  },
  {
   "cell_type": "code",
   "execution_count": 4,
   "metadata": {},
   "outputs": [
    {
     "name": "stdout",
     "output_type": "stream",
     "text": [
      "Host name with greatest number of listings in New York is Sonder (NYC) \n",
      "\n",
      "This host has 8 number of listings of \"private room\" type \n",
      "\n"
     ]
    }
   ],
   "source": [
    "df1=df[df['calculated_host_listings_count']==df['calculated_host_listings_count'].max()]\n",
    "\n",
    "hostName=df1['host_name'].iloc[0]\n",
    "\n",
    "print(\"Host name with greatest number of listings in New York is {} \\n\".format(hostName))\n",
    "\n",
    "df2=df1.groupby('room_type').get_group('Private room')\n",
    "\n",
    "count_of_listings_of_private_room=df2['id'].count()\n",
    "\n",
    "print(\"This host has {} number of listings of \\\"private room\\\" type \\n\".format(count_of_listings_of_private_room))"
   ]
  },
  {
   "cell_type": "markdown",
   "metadata": {},
   "source": [
    "4 Let’s define popularity of a listing as the total number_of_reviews for that listing. What are the three most popular listing (id and host_id) in each neighborhood group?"
   ]
  },
  {
   "cell_type": "code",
   "execution_count": 5,
   "metadata": {},
   "outputs": [
    {
     "data": {
      "text/html": [
       "<div>\n",
       "<style scoped>\n",
       "    .dataframe tbody tr th:only-of-type {\n",
       "        vertical-align: middle;\n",
       "    }\n",
       "\n",
       "    .dataframe tbody tr th {\n",
       "        vertical-align: top;\n",
       "    }\n",
       "\n",
       "    .dataframe thead th {\n",
       "        text-align: right;\n",
       "    }\n",
       "</style>\n",
       "<table border=\"1\" class=\"dataframe\">\n",
       "  <thead>\n",
       "    <tr style=\"text-align: right;\">\n",
       "      <th></th>\n",
       "      <th>id</th>\n",
       "      <th>host_id</th>\n",
       "      <th>number_of_reviews</th>\n",
       "    </tr>\n",
       "  </thead>\n",
       "  <tbody>\n",
       "    <tr>\n",
       "      <th>11759</th>\n",
       "      <td>9145202</td>\n",
       "      <td>47621202</td>\n",
       "      <td>629</td>\n",
       "    </tr>\n",
       "    <tr>\n",
       "      <th>2031</th>\n",
       "      <td>903972</td>\n",
       "      <td>4734398</td>\n",
       "      <td>607</td>\n",
       "    </tr>\n",
       "    <tr>\n",
       "      <th>2030</th>\n",
       "      <td>903947</td>\n",
       "      <td>4734398</td>\n",
       "      <td>597</td>\n",
       "    </tr>\n",
       "  </tbody>\n",
       "</table>\n",
       "</div>"
      ],
      "text/plain": [
       "            id   host_id  number_of_reviews\n",
       "11759  9145202  47621202                629\n",
       "2031    903972   4734398                607\n",
       "2030    903947   4734398                597"
      ]
     },
     "execution_count": 5,
     "metadata": {},
     "output_type": "execute_result"
    }
   ],
   "source": [
    "df1=df.sort_values(by='number_of_reviews')\n",
    "\n",
    "df2=df1.iloc[::-1]\n",
    "\n",
    "df2[['id','host_id','number_of_reviews']].head(3)\n"
   ]
  }
 ],
 "metadata": {
  "kernelspec": {
   "display_name": "Python 3",
   "language": "python",
   "name": "python3"
  },
  "language_info": {
   "codemirror_mode": {
    "name": "ipython",
    "version": 3
   },
   "file_extension": ".py",
   "mimetype": "text/x-python",
   "name": "python",
   "nbconvert_exporter": "python",
   "pygments_lexer": "ipython3",
   "version": "3.6.5"
  }
 },
 "nbformat": 4,
 "nbformat_minor": 2
}
